{
  "nbformat": 4,
  "nbformat_minor": 0,
  "metadata": {
    "kernelspec": {
      "name": "python3",
      "display_name": "Python 3"
    },
    "language_info": {
      "codemirror_mode": {
        "name": "ipython",
        "version": 3
      },
      "file_extension": ".py",
      "mimetype": "text/x-python",
      "name": "python",
      "nbconvert_exporter": "python",
      "pygments_lexer": "ipython3",
      "version": "3.6.4"
    },
    "colab": {
      "name": "Character_Level_RNN_Exercise.ipynb",
      "provenance": []
    },
    "accelerator": "GPU"
  },
  "cells": [
    {
      "cell_type": "markdown",
      "metadata": {
        "id": "6O9Ra-f_CRk_",
        "colab_type": "text"
      },
      "source": [
        "# Character-Level LSTM in PyTorch\n",
        "\n",
        "In this notebook, I'll construct a character-level LSTM with PyTorch. The network will train character by character on some text, then generate new text character by character. As an example, I will train on Anna Karenina. **This model will be able to generate new text based on the text from the book!**\n",
        "\n",
        "This network is based off of Andrej Karpathy's [post on RNNs](http://karpathy.github.io/2015/05/21/rnn-effectiveness/) and [implementation in Torch](https://github.com/karpathy/char-rnn). Below is the general architecture of the character-wise RNN.\n",
        "\n",
        "<img src=\"https://github.com/PavelCz/BertelsmannAIScholarship/blob/master/recurrent-neural-networks/char-rnn/assets/charseq.jpeg?raw=1\" width=\"500\">"
      ]
    },
    {
      "cell_type": "markdown",
      "metadata": {
        "id": "DvyJ7Fz9CRlF",
        "colab_type": "text"
      },
      "source": [
        "First let's load in our required resources for data loading and model creation."
      ]
    },
    {
      "cell_type": "code",
      "metadata": {
        "id": "OBz4YhkpCRlM",
        "colab_type": "code",
        "colab": {}
      },
      "source": [
        "import numpy as np\n",
        "import torch\n",
        "from torch import nn\n",
        "import torch.nn.functional as F"
      ],
      "execution_count": 0,
      "outputs": []
    },
    {
      "cell_type": "markdown",
      "metadata": {
        "id": "nh9OiEgtCRlh",
        "colab_type": "text"
      },
      "source": [
        "## Load in Data\n",
        "\n",
        "Then, we'll load the Anna Karenina text file and convert it into integers for our network to use. "
      ]
    },
    {
      "cell_type": "code",
      "metadata": {
        "id": "45ACLK9FCRlk",
        "colab_type": "code",
        "colab": {}
      },
      "source": [
        "# open text file and read in data as `text`\n",
        "with open('data/anna.txt', 'r') as f:\n",
        "    text = f.read()"
      ],
      "execution_count": 0,
      "outputs": []
    },
    {
      "cell_type": "markdown",
      "metadata": {
        "id": "VAC9DfiDCRlw",
        "colab_type": "text"
      },
      "source": [
        "Let's check out the first 100 characters, make sure everything is peachy. According to the [American Book Review](http://americanbookreview.org/100bestlines.asp), this is the 6th best first line of a book ever."
      ]
    },
    {
      "cell_type": "code",
      "metadata": {
        "id": "I-QStfyQCRlz",
        "colab_type": "code",
        "colab": {
          "base_uri": "https://localhost:8080/",
          "height": 54
        },
        "outputId": "d37b0902-d138-41f3-bfc2-9cda09f17fe1"
      },
      "source": [
        "text[:100]"
      ],
      "execution_count": 55,
      "outputs": [
        {
          "output_type": "execute_result",
          "data": {
            "text/plain": [
              "'Chapter 1\\n\\n\\nHappy families are all alike; every unhappy family is unhappy in its own\\nway.\\n\\nEverythin'"
            ]
          },
          "metadata": {
            "tags": []
          },
          "execution_count": 55
        }
      ]
    },
    {
      "cell_type": "markdown",
      "metadata": {
        "id": "E2pAnGYtCRl8",
        "colab_type": "text"
      },
      "source": [
        "### Tokenization\n",
        "\n",
        "In the cells, below, I'm creating a couple **dictionaries** to convert the characters to and from integers. Encoding the characters as integers makes it easier to use as input in the network."
      ]
    },
    {
      "cell_type": "code",
      "metadata": {
        "id": "qCWewhPECRmF",
        "colab_type": "code",
        "colab": {}
      },
      "source": [
        "# encode the text and map each character to an integer and vice versa\n",
        "\n",
        "# we create two dictionaries:\n",
        "# 1. int2char, which maps integers to characters\n",
        "# 2. char2int, which maps characters to unique integers\n",
        "chars = tuple(set(text))\n",
        "int2char = dict(enumerate(chars))\n",
        "char2int = {ch: ii for ii, ch in int2char.items()}\n",
        "\n",
        "# encode the text\n",
        "encoded = np.array([char2int[ch] for ch in text])"
      ],
      "execution_count": 0,
      "outputs": []
    },
    {
      "cell_type": "markdown",
      "metadata": {
        "id": "LlO5yXJyCRmR",
        "colab_type": "text"
      },
      "source": [
        "And we can see those same characters from above, encoded as integers."
      ]
    },
    {
      "cell_type": "code",
      "metadata": {
        "id": "xMtvEWjLCRmU",
        "colab_type": "code",
        "colab": {
          "base_uri": "https://localhost:8080/",
          "height": 121
        },
        "outputId": "d07478d9-9931-4c0f-c16e-0241703e66f1"
      },
      "source": [
        "encoded[:100]"
      ],
      "execution_count": 57,
      "outputs": [
        {
          "output_type": "execute_result",
          "data": {
            "text/plain": [
              "array([13, 78, 63, 22, 11, 21, 54, 32, 44, 20, 20, 20, 52, 63, 22, 22, 51,\n",
              "       32, 61, 63, 24,  5, 71,  5, 21,  7, 32, 63, 54, 21, 32, 63, 71, 71,\n",
              "       32, 63, 71,  5, 79, 21, 58, 32, 21, 18, 21, 54, 51, 32, 19, 68, 78,\n",
              "       63, 22, 22, 51, 32, 61, 63, 24,  5, 71, 51, 32,  5,  7, 32, 19, 68,\n",
              "       78, 63, 22, 22, 51, 32,  5, 68, 32,  5, 11,  7, 32, 60, 10, 68, 20,\n",
              "       10, 63, 51, 65, 20, 20, 53, 18, 21, 54, 51, 11, 78,  5, 68])"
            ]
          },
          "metadata": {
            "tags": []
          },
          "execution_count": 57
        }
      ]
    },
    {
      "cell_type": "markdown",
      "metadata": {
        "id": "tmyGUlvBCRmf",
        "colab_type": "text"
      },
      "source": [
        "## Pre-processing the data\n",
        "\n",
        "As you can see in our char-RNN image above, our LSTM expects an input that is **one-hot encoded** meaning that each character is converted into an integer (via our created dictionary) and *then* converted into a column vector where only it's corresponding integer index will have the value of 1 and the rest of the vector will be filled with 0's. Since we're one-hot encoding the data, let's make a function to do that!\n"
      ]
    },
    {
      "cell_type": "code",
      "metadata": {
        "id": "zxzi8866CRmi",
        "colab_type": "code",
        "colab": {}
      },
      "source": [
        "def one_hot_encode(arr, n_labels):\n",
        "    \n",
        "    # Initialize the the encoded array\n",
        "    one_hot = np.zeros((arr.size, n_labels), dtype=np.float32)\n",
        "    \n",
        "    # Fill the appropriate elements with ones\n",
        "    one_hot[np.arange(one_hot.shape[0]), arr.flatten()] = 1.\n",
        "    \n",
        "    # Finally reshape it to get back to the original array\n",
        "    one_hot = one_hot.reshape((*arr.shape, n_labels))\n",
        "    \n",
        "    return one_hot"
      ],
      "execution_count": 0,
      "outputs": []
    },
    {
      "cell_type": "code",
      "metadata": {
        "id": "eX0kFWPJCRmr",
        "colab_type": "code",
        "colab": {
          "base_uri": "https://localhost:8080/",
          "height": 69
        },
        "outputId": "ad9e8f5c-2ff9-4fb4-a417-82f3189e8d0f"
      },
      "source": [
        "# check that the function works as expected\n",
        "test_seq = np.array([[3, 5, 1]])\n",
        "one_hot = one_hot_encode(test_seq, 8)\n",
        "\n",
        "print(one_hot)"
      ],
      "execution_count": 59,
      "outputs": [
        {
          "output_type": "stream",
          "text": [
            "[[[0. 0. 0. 1. 0. 0. 0. 0.]\n",
            "  [0. 0. 0. 0. 0. 1. 0. 0.]\n",
            "  [0. 1. 0. 0. 0. 0. 0. 0.]]]\n"
          ],
          "name": "stdout"
        }
      ]
    },
    {
      "cell_type": "markdown",
      "metadata": {
        "id": "PL2pgXTgCRm5",
        "colab_type": "text"
      },
      "source": [
        "## Making training mini-batches\n",
        "\n",
        "\n",
        "To train on this data, we also want to create mini-batches for training. Remember that we want our batches to be multiple sequences of some desired number of sequence steps. Considering a simple example, our batches would look like this:\n",
        "\n",
        "<img src=\"https://github.com/PavelCz/BertelsmannAIScholarship/blob/master/recurrent-neural-networks/char-rnn/assets/sequence_batching@1x.png?raw=1\" width=500px>\n",
        "\n",
        "\n",
        "<br>\n",
        "\n",
        "In this example, we'll take the encoded characters (passed in as the `arr` parameter) and split them into multiple sequences, given by `batch_size`. Each of our sequences will be `seq_length` long.\n",
        "\n",
        "### Creating Batches\n",
        "\n",
        "**1. The first thing we need to do is discard some of the text so we only have completely full mini-batches. **\n",
        "\n",
        "Each batch contains $N \\times M$ characters, where $N$ is the batch size (the number of sequences in a batch) and $M$ is the seq_length or number of time steps in a sequence. Then, to get the total number of batches, $K$, that we can make from the array `arr`, you divide the length of `arr` by the number of characters per batch. Once you know the number of batches, you can get the total number of characters to keep from `arr`, $N * M * K$.\n",
        "\n",
        "**2. After that, we need to split `arr` into $N$ batches. ** \n",
        "\n",
        "You can do this using `arr.reshape(size)` where `size` is a tuple containing the dimensions sizes of the reshaped array. We know we want $N$ sequences in a batch, so let's make that the size of the first dimension. For the second dimension, you can use `-1` as a placeholder in the size, it'll fill up the array with the appropriate data for you. After this, you should have an array that is $N \\times (M * K)$.\n",
        "\n",
        "**3. Now that we have this array, we can iterate through it to get our mini-batches. **\n",
        "\n",
        "The idea is each batch is a $N \\times M$ window on the $N \\times (M * K)$ array. For each subsequent batch, the window moves over by `seq_length`. We also want to create both the input and target arrays. Remember that the targets are just the inputs shifted over by one character. The way I like to do this window is use `range` to take steps of size `n_steps` from $0$ to `arr.shape[1]`, the total number of tokens in each sequence. That way, the integers you get from `range` always point to the start of a batch, and each window is `seq_length` wide.\n",
        "\n",
        "> **TODO:** Write the code for creating batches in the function below. The exercises in this notebook _will not be easy_. I've provided a notebook with solutions alongside this notebook. If you get stuck, checkout the solutions. The most important thing is that you don't copy and paste the code into here, **type out the solution code yourself.**"
      ]
    },
    {
      "cell_type": "code",
      "metadata": {
        "id": "Yv8xAshGCRm8",
        "colab_type": "code",
        "colab": {}
      },
      "source": [
        "def get_batches(arr, batch_size, seq_length):\n",
        "    '''Create a generator that returns batches of size\n",
        "       batch_size x seq_length from arr.\n",
        "       \n",
        "       Arguments\n",
        "       ---------\n",
        "       arr: Array you want to make batches from\n",
        "       batch_size: Batch size, the number of sequences per batch\n",
        "       seq_length: Number of encoded chars in a sequence\n",
        "    '''\n",
        "    num_chars_per_batch = batch_size * seq_length\n",
        "    ## TODO: Get the number of batches we can make\n",
        "    n_batches = int(len(arr) / num_chars_per_batch)\n",
        "    \n",
        "    ## TODO: Keep only enough characters to make full batches\n",
        "    arr = arr[:(batch_size * seq_length * n_batches)]\n",
        "    \n",
        "    ## TODO: Reshape into batch_size rows\n",
        "    arr = arr.reshape(batch_size, -1)\n",
        "    \n",
        "    ## TODO: Iterate over the batches using a window of size seq_length\n",
        "    for n in range(0, arr.shape[1], seq_length):\n",
        "        # The features\n",
        "        x = arr[:, n:n+seq_length]\n",
        "        # The targets, shifted by one\n",
        "        y = np.zeros_like(x)\n",
        "        try:\n",
        "            y[:, :-1], y[:, -1] = x[:, 1:], arr[:, n+seq_length]\n",
        "        except IndexError:\n",
        "            y[:, :-1], y[:, -1] = x[:, 1:], arr[:, 0]\n",
        "        yield x, y"
      ],
      "execution_count": 0,
      "outputs": []
    },
    {
      "cell_type": "markdown",
      "metadata": {
        "id": "wcU0529yCRnG",
        "colab_type": "text"
      },
      "source": [
        "### Test Your Implementation\n",
        "\n",
        "Now I'll make some data sets and we can check out what's going on as we batch data. Here, as an example, I'm going to use a batch size of 8 and 50 sequence steps."
      ]
    },
    {
      "cell_type": "code",
      "metadata": {
        "id": "tsyxW18QCRnO",
        "colab_type": "code",
        "colab": {}
      },
      "source": [
        "batches = get_batches(encoded, 8, 50)\n",
        "x, y = next(batches)"
      ],
      "execution_count": 0,
      "outputs": []
    },
    {
      "cell_type": "code",
      "metadata": {
        "id": "-E-hMJh4CRnW",
        "colab_type": "code",
        "colab": {
          "base_uri": "https://localhost:8080/",
          "height": 347
        },
        "outputId": "0aa5b164-620d-411e-cf78-ea8b21556b3e"
      },
      "source": [
        "# printing out the first 10 items in a sequence\n",
        "print('x\\n', x[:10, :10])\n",
        "print('\\ny\\n', y[:10, :10])"
      ],
      "execution_count": 62,
      "outputs": [
        {
          "output_type": "stream",
          "text": [
            "x\n",
            " [[13 78 63 22 11 21 54 32 44 20]\n",
            " [ 7 60 68 32 11 78 63 11 32 63]\n",
            " [21 68 33 32 60 54 32 63 32 61]\n",
            " [ 7 32 11 78 21 32  8 78  5 21]\n",
            " [32  7 63 10 32 78 21 54 32 11]\n",
            " [ 8 19  7  7  5 60 68 32 63 68]\n",
            " [32 64 68 68 63 32 78 63 33 32]\n",
            " [ 4 66 71 60 68  7 79 51 65 32]]\n",
            "\n",
            "y\n",
            " [[78 63 22 11 21 54 32 44 20 20]\n",
            " [60 68 32 11 78 63 11 32 63 11]\n",
            " [68 33 32 60 54 32 63 32 61 60]\n",
            " [32 11 78 21 32  8 78  5 21 61]\n",
            " [ 7 63 10 32 78 21 54 32 11 21]\n",
            " [19  7  7  5 60 68 32 63 68 33]\n",
            " [64 68 68 63 32 78 63 33 32  7]\n",
            " [66 71 60 68  7 79 51 65 32 82]]\n"
          ],
          "name": "stdout"
        }
      ]
    },
    {
      "cell_type": "markdown",
      "metadata": {
        "id": "ILP85lO3CRnd",
        "colab_type": "text"
      },
      "source": [
        "If you implemented `get_batches` correctly, the above output should look something like \n",
        "```\n",
        "x\n",
        " [[25  8 60 11 45 27 28 73  1  2]\n",
        " [17  7 20 73 45  8 60 45 73 60]\n",
        " [27 20 80 73  7 28 73 60 73 65]\n",
        " [17 73 45  8 27 73 66  8 46 27]\n",
        " [73 17 60 12 73  8 27 28 73 45]\n",
        " [66 64 17 17 46  7 20 73 60 20]\n",
        " [73 76 20 20 60 73  8 60 80 73]\n",
        " [47 35 43  7 20 17 24 50 37 73]]\n",
        "\n",
        "y\n",
        " [[ 8 60 11 45 27 28 73  1  2  2]\n",
        " [ 7 20 73 45  8 60 45 73 60 45]\n",
        " [20 80 73  7 28 73 60 73 65  7]\n",
        " [73 45  8 27 73 66  8 46 27 65]\n",
        " [17 60 12 73  8 27 28 73 45 27]\n",
        " [64 17 17 46  7 20 73 60 20 80]\n",
        " [76 20 20 60 73  8 60 80 73 17]\n",
        " [35 43  7 20 17 24 50 37 73 36]]\n",
        " ```\n",
        " although the exact numbers may be different. Check to make sure the data is shifted over one step for `y`."
      ]
    },
    {
      "cell_type": "markdown",
      "metadata": {
        "id": "ug4Ui19gCRng",
        "colab_type": "text"
      },
      "source": [
        "---\n",
        "## Defining the network with PyTorch\n",
        "\n",
        "Below is where you'll define the network.\n",
        "\n",
        "<img src=\"https://github.com/PavelCz/BertelsmannAIScholarship/blob/master/recurrent-neural-networks/char-rnn/assets/charRNN.png?raw=1\" width=500px>\n",
        "\n",
        "Next, you'll use PyTorch to define the architecture of the network. We start by defining the layers and operations we want. Then, define a method for the forward pass. You've also been given a method for predicting characters."
      ]
    },
    {
      "cell_type": "markdown",
      "metadata": {
        "id": "S4kXFlcECRnm",
        "colab_type": "text"
      },
      "source": [
        "### Model Structure\n",
        "\n",
        "In `__init__` the suggested structure is as follows:\n",
        "* Create and store the necessary dictionaries (this has been done for you)\n",
        "* Define an LSTM layer that takes as params: an input size (the number of characters), a hidden layer size `n_hidden`, a number of layers `n_layers`, a dropout probability `drop_prob`, and a batch_first boolean (True, since we are batching)\n",
        "* Define a dropout layer with `drop_prob`\n",
        "* Define a fully-connected layer with params: input size `n_hidden` and output size (the number of characters)\n",
        "* Finally, initialize the weights (again, this has been given)\n",
        "\n",
        "Note that some parameters have been named and given in the `__init__` function, and we use them and store them by doing something like `self.drop_prob = drop_prob`."
      ]
    },
    {
      "cell_type": "markdown",
      "metadata": {
        "id": "qMUfPiW2CRnr",
        "colab_type": "text"
      },
      "source": [
        "---\n",
        "### LSTM Inputs/Outputs\n",
        "\n",
        "You can create a basic [LSTM layer](https://pytorch.org/docs/stable/nn.html#lstm) as follows\n",
        "\n",
        "```python\n",
        "self.lstm = nn.LSTM(input_size, n_hidden, n_layers, \n",
        "                            dropout=drop_prob, batch_first=True)\n",
        "```\n",
        "\n",
        "where `input_size` is the number of characters this cell expects to see as sequential input, and `n_hidden` is the number of units in the hidden layers in the cell. And we can add dropout by adding a dropout parameter with a specified probability; this will automatically add dropout to the inputs or outputs. Finally, in the `forward` function, we can stack up the LSTM cells into layers using `.view`. With this, you pass in a list of cells and it will send the output of one cell into the next cell.\n",
        "\n",
        "We also need to create an initial hidden state of all zeros. This is done like so\n",
        "\n",
        "```python\n",
        "self.init_hidden()\n",
        "```"
      ]
    },
    {
      "cell_type": "code",
      "metadata": {
        "id": "9zE-gP60CRnt",
        "colab_type": "code",
        "colab": {
          "base_uri": "https://localhost:8080/",
          "height": 34
        },
        "outputId": "e203709e-2774-4ebb-bb8b-232280603275"
      },
      "source": [
        "# check if GPU is available\n",
        "train_on_gpu = torch.cuda.is_available()\n",
        "if(train_on_gpu):\n",
        "    print('Training on GPU!')\n",
        "else: \n",
        "    print('No GPU available, training on CPU; consider making n_epochs very small.')"
      ],
      "execution_count": 63,
      "outputs": [
        {
          "output_type": "stream",
          "text": [
            "Training on GPU!\n"
          ],
          "name": "stdout"
        }
      ]
    },
    {
      "cell_type": "code",
      "metadata": {
        "id": "6EnAGscRCRn0",
        "colab_type": "code",
        "colab": {}
      },
      "source": [
        "class CharRNN(nn.Module):\n",
        "    \n",
        "    def __init__(self, tokens, n_hidden=256, n_layers=2,\n",
        "                               drop_prob=0.5, lr=0.001):\n",
        "        super().__init__()\n",
        "        self.drop_prob = drop_prob\n",
        "        self.n_layers = n_layers\n",
        "        self.n_hidden = n_hidden\n",
        "        self.lr = lr\n",
        "        \n",
        "        # creating character dictionaries\n",
        "        self.chars = tokens\n",
        "        self.int2char = dict(enumerate(self.chars))\n",
        "        self.char2int = {ch: ii for ii, ch in self.int2char.items()}\n",
        "        \n",
        "        ## TODO: define the layers of the model\n",
        "        self.lstm = nn.LSTM(len(self.chars), n_hidden, n_layers, \n",
        "                            dropout=drop_prob, batch_first=True)\n",
        "        self.fc = nn.Linear(n_hidden, len(self.chars))\n",
        "      \n",
        "    \n",
        "    def forward(self, x, hidden):\n",
        "        ''' Forward pass through the network. \n",
        "            These inputs are x, and the hidden/cell state `hidden`. '''\n",
        "                \n",
        "        ## TODO: Get the outputs and the new hidden state from the lstm\n",
        "        x, hidden = self.lstm(x, hidden)\n",
        "\n",
        "        x = x.reshape(-1, self.n_hidden)\n",
        "\n",
        "        out = self.fc(x)\n",
        "        \n",
        "        # return the final output and the hidden state\n",
        "        return out, hidden\n",
        "    \n",
        "    \n",
        "    def init_hidden(self, batch_size):\n",
        "        ''' Initializes hidden state '''\n",
        "        # Create two new tensors with sizes n_layers x batch_size x n_hidden,\n",
        "        # initialized to zero, for hidden state and cell state of LSTM\n",
        "        weight = next(self.parameters()).data\n",
        "        \n",
        "        if (train_on_gpu):\n",
        "            hidden = (weight.new(self.n_layers, batch_size, self.n_hidden).zero_().cuda(),\n",
        "                  weight.new(self.n_layers, batch_size, self.n_hidden).zero_().cuda())\n",
        "        else:\n",
        "            hidden = (weight.new(self.n_layers, batch_size, self.n_hidden).zero_(),\n",
        "                      weight.new(self.n_layers, batch_size, self.n_hidden).zero_())\n",
        "        \n",
        "        return hidden\n",
        "        "
      ],
      "execution_count": 0,
      "outputs": []
    },
    {
      "cell_type": "markdown",
      "metadata": {
        "id": "Dm_UPtkWCRn9",
        "colab_type": "text"
      },
      "source": [
        "## Time to train\n",
        "\n",
        "The train function gives us the ability to set the number of epochs, the learning rate, and other parameters.\n",
        "\n",
        "Below we're using an Adam optimizer and cross entropy loss since we are looking at character class scores as output. We calculate the loss and perform backpropagation, as usual!\n",
        "\n",
        "A couple of details about training: \n",
        ">* Within the batch loop, we detach the hidden state from its history; this time setting it equal to a new *tuple* variable because an LSTM has a hidden state that is a tuple of the hidden and cell states.\n",
        "* We use [`clip_grad_norm_`](https://pytorch.org/docs/stable/_modules/torch/nn/utils/clip_grad.html) to help prevent exploding gradients."
      ]
    },
    {
      "cell_type": "code",
      "metadata": {
        "id": "IcO2g0VsCRn-",
        "colab_type": "code",
        "colab": {}
      },
      "source": [
        "def train(net, data, epochs=10, batch_size=10, seq_length=50, lr=0.001, clip=5, val_frac=0.1, print_every=10):\n",
        "    ''' Training a network \n",
        "    \n",
        "        Arguments\n",
        "        ---------\n",
        "        \n",
        "        net: CharRNN network\n",
        "        data: text data to train the network\n",
        "        epochs: Number of epochs to train\n",
        "        batch_size: Number of mini-sequences per mini-batch, aka batch size\n",
        "        seq_length: Number of character steps per mini-batch\n",
        "        lr: learning rate\n",
        "        clip: gradient clipping\n",
        "        val_frac: Fraction of data to hold out for validation\n",
        "        print_every: Number of steps for printing training and validation loss\n",
        "    \n",
        "    '''\n",
        "    net.train()\n",
        "    \n",
        "    opt = torch.optim.Adam(net.parameters(), lr=lr)\n",
        "    criterion = nn.CrossEntropyLoss()\n",
        "    \n",
        "    # create training and validation data\n",
        "    val_idx = int(len(data)*(1-val_frac))\n",
        "    data, val_data = data[:val_idx], data[val_idx:]\n",
        "    \n",
        "    if(train_on_gpu):\n",
        "        net.cuda()\n",
        "    \n",
        "    counter = 0\n",
        "    n_chars = len(net.chars)\n",
        "    for e in range(epochs):\n",
        "        # initialize hidden state\n",
        "        h = net.init_hidden(batch_size)\n",
        "        \n",
        "        for x, y in get_batches(data, batch_size, seq_length):\n",
        "            counter += 1\n",
        "            \n",
        "            # One-hot encode our data and make them Torch tensors\n",
        "            x = one_hot_encode(x, n_chars)\n",
        "            inputs, targets = torch.from_numpy(x), torch.from_numpy(y)\n",
        "            \n",
        "            if(train_on_gpu):\n",
        "                inputs, targets = inputs.cuda(), targets.cuda()\n",
        "\n",
        "            # Creating new variables for the hidden state, otherwise\n",
        "            # we'd backprop through the entire training history\n",
        "            h = tuple([each.data for each in h])\n",
        "\n",
        "            # zero accumulated gradients\n",
        "            net.zero_grad()\n",
        "            \n",
        "            # get the output from the model\n",
        "            output, h = net(inputs, h)\n",
        "            \n",
        "            # calculate the loss and perform backprop\n",
        "            loss = criterion(output, targets.view(batch_size*seq_length).long())\n",
        "            loss.backward()\n",
        "            # `clip_grad_norm` helps prevent the exploding gradient problem in RNNs / LSTMs.\n",
        "            nn.utils.clip_grad_norm_(net.parameters(), clip)\n",
        "            opt.step()\n",
        "            \n",
        "            # loss stats\n",
        "            if counter % print_every == 0:\n",
        "                # Get validation loss\n",
        "                val_h = net.init_hidden(batch_size)\n",
        "                val_losses = []\n",
        "                net.eval()\n",
        "                for x, y in get_batches(val_data, batch_size, seq_length):\n",
        "                    # One-hot encode our data and make them Torch tensors\n",
        "                    x = one_hot_encode(x, n_chars)\n",
        "                    x, y = torch.from_numpy(x), torch.from_numpy(y)\n",
        "                    \n",
        "                    # Creating new variables for the hidden state, otherwise\n",
        "                    # we'd backprop through the entire training history\n",
        "                    val_h = tuple([each.data for each in val_h])\n",
        "                    \n",
        "                    inputs, targets = x, y\n",
        "                    if(train_on_gpu):\n",
        "                        inputs, targets = inputs.cuda(), targets.cuda()\n",
        "\n",
        "                    output, val_h = net(inputs, val_h)\n",
        "                    val_loss = criterion(output, targets.view(batch_size*seq_length).long())\n",
        "                \n",
        "                    val_losses.append(val_loss.item())\n",
        "                \n",
        "                net.train() # reset to train mode after iterationg through validation data\n",
        "                \n",
        "                print(\"Epoch: {}/{}...\".format(e+1, epochs),\n",
        "                      \"Step: {}...\".format(counter),\n",
        "                      \"Loss: {:.4f}...\".format(loss.item()),\n",
        "                      \"Val Loss: {:.4f}\".format(np.mean(val_losses)))"
      ],
      "execution_count": 0,
      "outputs": []
    },
    {
      "cell_type": "markdown",
      "metadata": {
        "id": "jT0NFtjRCRoF",
        "colab_type": "text"
      },
      "source": [
        "## Instantiating the model\n",
        "\n",
        "Now we can actually train the network. First we'll create the network itself, with some given hyperparameters. Then, define the mini-batches sizes, and start training!"
      ]
    },
    {
      "cell_type": "code",
      "metadata": {
        "id": "E83piTWNCRoK",
        "colab_type": "code",
        "colab": {
          "base_uri": "https://localhost:8080/",
          "height": 86
        },
        "outputId": "73203e92-6c6c-4885-a531-83627d955997"
      },
      "source": [
        "## TODO: set your model hyperparameters\n",
        "# define and print the net\n",
        "n_hidden=512\n",
        "n_layers=2\n",
        "\n",
        "net = CharRNN(chars, n_hidden, n_layers)\n",
        "print(net)"
      ],
      "execution_count": 66,
      "outputs": [
        {
          "output_type": "stream",
          "text": [
            "CharRNN(\n",
            "  (lstm): LSTM(83, 512, num_layers=2, batch_first=True, dropout=0.5)\n",
            "  (fc): Linear(in_features=512, out_features=83, bias=True)\n",
            ")\n"
          ],
          "name": "stdout"
        }
      ]
    },
    {
      "cell_type": "markdown",
      "metadata": {
        "id": "bTrwBxnSCRoP",
        "colab_type": "text"
      },
      "source": [
        "### Set your training hyperparameters!"
      ]
    },
    {
      "cell_type": "code",
      "metadata": {
        "scrolled": true,
        "id": "x2z87o6FCRoS",
        "colab_type": "code",
        "colab": {
          "base_uri": "https://localhost:8080/",
          "height": 1000
        },
        "outputId": "f60e3f39-87aa-471e-8475-c31d98c0fd24"
      },
      "source": [
        "batch_size = 128\n",
        "seq_length = 100\n",
        "n_epochs =  15 # start small if you are just testing initial behavior\n",
        "\n",
        "# train the model\n",
        "train(net, encoded, epochs=n_epochs, batch_size=batch_size, seq_length=seq_length, lr=0.001, print_every=10)"
      ],
      "execution_count": 68,
      "outputs": [
        {
          "output_type": "stream",
          "text": [
            "Epoch: 1/15... Step: 10... Loss: 1.8804... Val Loss: 1.8846\n",
            "Epoch: 1/15... Step: 20... Loss: 1.8454... Val Loss: 1.8478\n",
            "Epoch: 1/15... Step: 30... Loss: 1.8128... Val Loss: 1.8259\n",
            "Epoch: 1/15... Step: 40... Loss: 1.7742... Val Loss: 1.8171\n",
            "Epoch: 1/15... Step: 50... Loss: 1.8123... Val Loss: 1.8118\n",
            "Epoch: 1/15... Step: 60... Loss: 1.7379... Val Loss: 1.8054\n",
            "Epoch: 1/15... Step: 70... Loss: 1.7474... Val Loss: 1.7996\n",
            "Epoch: 1/15... Step: 80... Loss: 1.7389... Val Loss: 1.7938\n",
            "Epoch: 1/15... Step: 90... Loss: 1.7743... Val Loss: 1.7872\n",
            "Epoch: 1/15... Step: 100... Loss: 1.7441... Val Loss: 1.7829\n",
            "Epoch: 1/15... Step: 110... Loss: 1.7237... Val Loss: 1.7808\n",
            "Epoch: 1/15... Step: 120... Loss: 1.7000... Val Loss: 1.7730\n",
            "Epoch: 1/15... Step: 130... Loss: 1.7540... Val Loss: 1.7673\n",
            "Epoch: 2/15... Step: 140... Loss: 1.7559... Val Loss: 1.7619\n",
            "Epoch: 2/15... Step: 150... Loss: 1.7226... Val Loss: 1.7546\n",
            "Epoch: 2/15... Step: 160... Loss: 1.7385... Val Loss: 1.7491\n",
            "Epoch: 2/15... Step: 170... Loss: 1.7328... Val Loss: 1.7494\n",
            "Epoch: 2/15... Step: 180... Loss: 1.6915... Val Loss: 1.7403\n",
            "Epoch: 2/15... Step: 190... Loss: 1.6608... Val Loss: 1.7373\n",
            "Epoch: 2/15... Step: 200... Loss: 1.6598... Val Loss: 1.7339\n",
            "Epoch: 2/15... Step: 210... Loss: 1.6789... Val Loss: 1.7278\n",
            "Epoch: 2/15... Step: 220... Loss: 1.6631... Val Loss: 1.7221\n",
            "Epoch: 2/15... Step: 230... Loss: 1.6811... Val Loss: 1.7177\n",
            "Epoch: 2/15... Step: 240... Loss: 1.6822... Val Loss: 1.7152\n",
            "Epoch: 2/15... Step: 250... Loss: 1.6457... Val Loss: 1.7109\n",
            "Epoch: 2/15... Step: 260... Loss: 1.6166... Val Loss: 1.7040\n",
            "Epoch: 2/15... Step: 270... Loss: 1.6691... Val Loss: 1.6953\n",
            "Epoch: 3/15... Step: 280... Loss: 1.6531... Val Loss: 1.6904\n",
            "Epoch: 3/15... Step: 290... Loss: 1.6578... Val Loss: 1.6837\n",
            "Epoch: 3/15... Step: 300... Loss: 1.6198... Val Loss: 1.6809\n",
            "Epoch: 3/15... Step: 310... Loss: 1.6226... Val Loss: 1.6763\n",
            "Epoch: 3/15... Step: 320... Loss: 1.5988... Val Loss: 1.6715\n",
            "Epoch: 3/15... Step: 330... Loss: 1.6000... Val Loss: 1.6689\n",
            "Epoch: 3/15... Step: 340... Loss: 1.6461... Val Loss: 1.6652\n",
            "Epoch: 3/15... Step: 350... Loss: 1.6096... Val Loss: 1.6581\n",
            "Epoch: 3/15... Step: 360... Loss: 1.5635... Val Loss: 1.6566\n",
            "Epoch: 3/15... Step: 370... Loss: 1.6025... Val Loss: 1.6494\n",
            "Epoch: 3/15... Step: 380... Loss: 1.6025... Val Loss: 1.6461\n",
            "Epoch: 3/15... Step: 390... Loss: 1.5758... Val Loss: 1.6461\n",
            "Epoch: 3/15... Step: 400... Loss: 1.5613... Val Loss: 1.6438\n",
            "Epoch: 3/15... Step: 410... Loss: 1.5847... Val Loss: 1.6337\n",
            "Epoch: 4/15... Step: 420... Loss: 1.5685... Val Loss: 1.6273\n",
            "Epoch: 4/15... Step: 430... Loss: 1.5729... Val Loss: 1.6223\n",
            "Epoch: 4/15... Step: 440... Loss: 1.5690... Val Loss: 1.6200\n",
            "Epoch: 4/15... Step: 450... Loss: 1.5285... Val Loss: 1.6164\n",
            "Epoch: 4/15... Step: 460... Loss: 1.5039... Val Loss: 1.6141\n",
            "Epoch: 4/15... Step: 470... Loss: 1.5576... Val Loss: 1.6108\n",
            "Epoch: 4/15... Step: 480... Loss: 1.5514... Val Loss: 1.6030\n",
            "Epoch: 4/15... Step: 490... Loss: 1.5525... Val Loss: 1.6002\n",
            "Epoch: 4/15... Step: 500... Loss: 1.5592... Val Loss: 1.5989\n",
            "Epoch: 4/15... Step: 510... Loss: 1.5298... Val Loss: 1.5939\n",
            "Epoch: 4/15... Step: 520... Loss: 1.5370... Val Loss: 1.5914\n",
            "Epoch: 4/15... Step: 530... Loss: 1.5144... Val Loss: 1.5917\n",
            "Epoch: 4/15... Step: 540... Loss: 1.4934... Val Loss: 1.5885\n",
            "Epoch: 4/15... Step: 550... Loss: 1.5462... Val Loss: 1.5847\n",
            "Epoch: 5/15... Step: 560... Loss: 1.5133... Val Loss: 1.5800\n",
            "Epoch: 5/15... Step: 570... Loss: 1.5084... Val Loss: 1.5730\n",
            "Epoch: 5/15... Step: 580... Loss: 1.4995... Val Loss: 1.5689\n",
            "Epoch: 5/15... Step: 590... Loss: 1.4907... Val Loss: 1.5669\n",
            "Epoch: 5/15... Step: 600... Loss: 1.4849... Val Loss: 1.5610\n",
            "Epoch: 5/15... Step: 610... Loss: 1.4718... Val Loss: 1.5600\n",
            "Epoch: 5/15... Step: 620... Loss: 1.4845... Val Loss: 1.5579\n",
            "Epoch: 5/15... Step: 630... Loss: 1.5029... Val Loss: 1.5579\n",
            "Epoch: 5/15... Step: 640... Loss: 1.4644... Val Loss: 1.5515\n",
            "Epoch: 5/15... Step: 650... Loss: 1.4756... Val Loss: 1.5485\n",
            "Epoch: 5/15... Step: 660... Loss: 1.4478... Val Loss: 1.5465\n",
            "Epoch: 5/15... Step: 670... Loss: 1.4791... Val Loss: 1.5432\n",
            "Epoch: 5/15... Step: 680... Loss: 1.4727... Val Loss: 1.5398\n",
            "Epoch: 5/15... Step: 690... Loss: 1.4615... Val Loss: 1.5340\n",
            "Epoch: 6/15... Step: 700... Loss: 1.4679... Val Loss: 1.5312\n",
            "Epoch: 6/15... Step: 710... Loss: 1.4501... Val Loss: 1.5289\n",
            "Epoch: 6/15... Step: 720... Loss: 1.4372... Val Loss: 1.5230\n",
            "Epoch: 6/15... Step: 730... Loss: 1.4564... Val Loss: 1.5204\n",
            "Epoch: 6/15... Step: 740... Loss: 1.4300... Val Loss: 1.5216\n",
            "Epoch: 6/15... Step: 750... Loss: 1.4194... Val Loss: 1.5168\n",
            "Epoch: 6/15... Step: 760... Loss: 1.4595... Val Loss: 1.5146\n",
            "Epoch: 6/15... Step: 770... Loss: 1.4323... Val Loss: 1.5134\n",
            "Epoch: 6/15... Step: 780... Loss: 1.4227... Val Loss: 1.5103\n",
            "Epoch: 6/15... Step: 790... Loss: 1.4077... Val Loss: 1.5056\n",
            "Epoch: 6/15... Step: 800... Loss: 1.4268... Val Loss: 1.5069\n",
            "Epoch: 6/15... Step: 810... Loss: 1.4127... Val Loss: 1.5036\n",
            "Epoch: 6/15... Step: 820... Loss: 1.3800... Val Loss: 1.4977\n",
            "Epoch: 6/15... Step: 830... Loss: 1.4278... Val Loss: 1.4958\n",
            "Epoch: 7/15... Step: 840... Loss: 1.3913... Val Loss: 1.4937\n",
            "Epoch: 7/15... Step: 850... Loss: 1.4071... Val Loss: 1.4958\n",
            "Epoch: 7/15... Step: 860... Loss: 1.3858... Val Loss: 1.4887\n",
            "Epoch: 7/15... Step: 870... Loss: 1.4006... Val Loss: 1.4849\n",
            "Epoch: 7/15... Step: 880... Loss: 1.4085... Val Loss: 1.4841\n",
            "Epoch: 7/15... Step: 890... Loss: 1.4057... Val Loss: 1.4822\n",
            "Epoch: 7/15... Step: 900... Loss: 1.3828... Val Loss: 1.4815\n",
            "Epoch: 7/15... Step: 910... Loss: 1.3577... Val Loss: 1.4772\n",
            "Epoch: 7/15... Step: 920... Loss: 1.3847... Val Loss: 1.4758\n",
            "Epoch: 7/15... Step: 930... Loss: 1.3747... Val Loss: 1.4729\n",
            "Epoch: 7/15... Step: 940... Loss: 1.3738... Val Loss: 1.4706\n",
            "Epoch: 7/15... Step: 950... Loss: 1.3904... Val Loss: 1.4687\n",
            "Epoch: 7/15... Step: 960... Loss: 1.3947... Val Loss: 1.4631\n",
            "Epoch: 7/15... Step: 970... Loss: 1.3904... Val Loss: 1.4628\n",
            "Epoch: 8/15... Step: 980... Loss: 1.3659... Val Loss: 1.4636\n",
            "Epoch: 8/15... Step: 990... Loss: 1.3685... Val Loss: 1.4594\n",
            "Epoch: 8/15... Step: 1000... Loss: 1.3645... Val Loss: 1.4606\n",
            "Epoch: 8/15... Step: 1010... Loss: 1.3981... Val Loss: 1.4571\n",
            "Epoch: 8/15... Step: 1020... Loss: 1.3728... Val Loss: 1.4600\n",
            "Epoch: 8/15... Step: 1030... Loss: 1.3599... Val Loss: 1.4550\n",
            "Epoch: 8/15... Step: 1040... Loss: 1.3668... Val Loss: 1.4556\n",
            "Epoch: 8/15... Step: 1050... Loss: 1.3497... Val Loss: 1.4489\n",
            "Epoch: 8/15... Step: 1060... Loss: 1.3532... Val Loss: 1.4458\n",
            "Epoch: 8/15... Step: 1070... Loss: 1.3590... Val Loss: 1.4452\n",
            "Epoch: 8/15... Step: 1080... Loss: 1.3535... Val Loss: 1.4434\n",
            "Epoch: 8/15... Step: 1090... Loss: 1.3434... Val Loss: 1.4408\n",
            "Epoch: 8/15... Step: 1100... Loss: 1.3300... Val Loss: 1.4389\n",
            "Epoch: 8/15... Step: 1110... Loss: 1.3473... Val Loss: 1.4400\n",
            "Epoch: 9/15... Step: 1120... Loss: 1.3522... Val Loss: 1.4363\n",
            "Epoch: 9/15... Step: 1130... Loss: 1.3447... Val Loss: 1.4356\n",
            "Epoch: 9/15... Step: 1140... Loss: 1.3543... Val Loss: 1.4312\n",
            "Epoch: 9/15... Step: 1150... Loss: 1.3690... Val Loss: 1.4319\n",
            "Epoch: 9/15... Step: 1160... Loss: 1.3177... Val Loss: 1.4313\n",
            "Epoch: 9/15... Step: 1170... Loss: 1.3303... Val Loss: 1.4292\n",
            "Epoch: 9/15... Step: 1180... Loss: 1.3256... Val Loss: 1.4273\n",
            "Epoch: 9/15... Step: 1190... Loss: 1.3523... Val Loss: 1.4247\n",
            "Epoch: 9/15... Step: 1200... Loss: 1.3117... Val Loss: 1.4205\n",
            "Epoch: 9/15... Step: 1210... Loss: 1.3136... Val Loss: 1.4188\n",
            "Epoch: 9/15... Step: 1220... Loss: 1.3187... Val Loss: 1.4217\n",
            "Epoch: 9/15... Step: 1230... Loss: 1.2981... Val Loss: 1.4179\n",
            "Epoch: 9/15... Step: 1240... Loss: 1.3025... Val Loss: 1.4178\n",
            "Epoch: 9/15... Step: 1250... Loss: 1.3168... Val Loss: 1.4179\n",
            "Epoch: 10/15... Step: 1260... Loss: 1.3239... Val Loss: 1.4155\n",
            "Epoch: 10/15... Step: 1270... Loss: 1.3114... Val Loss: 1.4172\n",
            "Epoch: 10/15... Step: 1280... Loss: 1.3401... Val Loss: 1.4106\n",
            "Epoch: 10/15... Step: 1290... Loss: 1.3142... Val Loss: 1.4131\n",
            "Epoch: 10/15... Step: 1300... Loss: 1.3141... Val Loss: 1.4154\n",
            "Epoch: 10/15... Step: 1310... Loss: 1.3148... Val Loss: 1.4122\n",
            "Epoch: 10/15... Step: 1320... Loss: 1.2893... Val Loss: 1.4075\n",
            "Epoch: 10/15... Step: 1330... Loss: 1.2877... Val Loss: 1.4101\n",
            "Epoch: 10/15... Step: 1340... Loss: 1.2790... Val Loss: 1.4022\n",
            "Epoch: 10/15... Step: 1350... Loss: 1.2805... Val Loss: 1.4019\n",
            "Epoch: 10/15... Step: 1360... Loss: 1.2811... Val Loss: 1.3974\n",
            "Epoch: 10/15... Step: 1370... Loss: 1.2665... Val Loss: 1.3946\n",
            "Epoch: 10/15... Step: 1380... Loss: 1.3050... Val Loss: 1.3940\n",
            "Epoch: 10/15... Step: 1390... Loss: 1.3291... Val Loss: 1.4002\n",
            "Epoch: 11/15... Step: 1400... Loss: 1.3219... Val Loss: 1.3958\n",
            "Epoch: 11/15... Step: 1410... Loss: 1.3414... Val Loss: 1.3952\n",
            "Epoch: 11/15... Step: 1420... Loss: 1.3230... Val Loss: 1.3900\n",
            "Epoch: 11/15... Step: 1430... Loss: 1.2830... Val Loss: 1.3959\n",
            "Epoch: 11/15... Step: 1440... Loss: 1.3089... Val Loss: 1.3948\n",
            "Epoch: 11/15... Step: 1450... Loss: 1.2462... Val Loss: 1.3889\n",
            "Epoch: 11/15... Step: 1460... Loss: 1.2667... Val Loss: 1.3876\n",
            "Epoch: 11/15... Step: 1470... Loss: 1.2562... Val Loss: 1.3921\n",
            "Epoch: 11/15... Step: 1480... Loss: 1.2843... Val Loss: 1.3813\n",
            "Epoch: 11/15... Step: 1490... Loss: 1.2729... Val Loss: 1.3833\n",
            "Epoch: 11/15... Step: 1500... Loss: 1.2600... Val Loss: 1.3844\n",
            "Epoch: 11/15... Step: 1510... Loss: 1.2440... Val Loss: 1.3798\n",
            "Epoch: 11/15... Step: 1520... Loss: 1.2776... Val Loss: 1.3784\n",
            "Epoch: 12/15... Step: 1530... Loss: 1.3013... Val Loss: 1.3803\n",
            "Epoch: 12/15... Step: 1540... Loss: 1.2801... Val Loss: 1.3791\n",
            "Epoch: 12/15... Step: 1550... Loss: 1.2912... Val Loss: 1.3766\n",
            "Epoch: 12/15... Step: 1560... Loss: 1.2925... Val Loss: 1.3764\n",
            "Epoch: 12/15... Step: 1570... Loss: 1.2548... Val Loss: 1.3766\n",
            "Epoch: 12/15... Step: 1580... Loss: 1.2322... Val Loss: 1.3773\n",
            "Epoch: 12/15... Step: 1590... Loss: 1.2221... Val Loss: 1.3746\n",
            "Epoch: 12/15... Step: 1600... Loss: 1.2406... Val Loss: 1.3748\n",
            "Epoch: 12/15... Step: 1610... Loss: 1.2425... Val Loss: 1.3777\n",
            "Epoch: 12/15... Step: 1620... Loss: 1.2392... Val Loss: 1.3710\n",
            "Epoch: 12/15... Step: 1630... Loss: 1.2626... Val Loss: 1.3697\n",
            "Epoch: 12/15... Step: 1640... Loss: 1.2440... Val Loss: 1.3684\n",
            "Epoch: 12/15... Step: 1650... Loss: 1.2244... Val Loss: 1.3679\n",
            "Epoch: 12/15... Step: 1660... Loss: 1.2761... Val Loss: 1.3673\n",
            "Epoch: 13/15... Step: 1670... Loss: 1.2419... Val Loss: 1.3680\n",
            "Epoch: 13/15... Step: 1680... Loss: 1.2554... Val Loss: 1.3751\n",
            "Epoch: 13/15... Step: 1690... Loss: 1.2411... Val Loss: 1.3653\n",
            "Epoch: 13/15... Step: 1700... Loss: 1.2401... Val Loss: 1.3624\n",
            "Epoch: 13/15... Step: 1710... Loss: 1.2149... Val Loss: 1.3671\n",
            "Epoch: 13/15... Step: 1720... Loss: 1.2249... Val Loss: 1.3655\n",
            "Epoch: 13/15... Step: 1730... Loss: 1.2617... Val Loss: 1.3615\n",
            "Epoch: 13/15... Step: 1740... Loss: 1.2236... Val Loss: 1.3637\n",
            "Epoch: 13/15... Step: 1750... Loss: 1.2060... Val Loss: 1.3670\n",
            "Epoch: 13/15... Step: 1760... Loss: 1.2260... Val Loss: 1.3593\n",
            "Epoch: 13/15... Step: 1770... Loss: 1.2498... Val Loss: 1.3567\n",
            "Epoch: 13/15... Step: 1780... Loss: 1.2275... Val Loss: 1.3600\n",
            "Epoch: 13/15... Step: 1790... Loss: 1.2127... Val Loss: 1.3568\n",
            "Epoch: 13/15... Step: 1800... Loss: 1.2399... Val Loss: 1.3555\n",
            "Epoch: 14/15... Step: 1810... Loss: 1.2461... Val Loss: 1.3596\n",
            "Epoch: 14/15... Step: 1820... Loss: 1.2262... Val Loss: 1.3657\n",
            "Epoch: 14/15... Step: 1830... Loss: 1.2425... Val Loss: 1.3510\n",
            "Epoch: 14/15... Step: 1840... Loss: 1.1950... Val Loss: 1.3558\n",
            "Epoch: 14/15... Step: 1850... Loss: 1.1769... Val Loss: 1.3551\n",
            "Epoch: 14/15... Step: 1860... Loss: 1.2357... Val Loss: 1.3533\n",
            "Epoch: 14/15... Step: 1870... Loss: 1.2438... Val Loss: 1.3501\n",
            "Epoch: 14/15... Step: 1880... Loss: 1.2318... Val Loss: 1.3532\n",
            "Epoch: 14/15... Step: 1890... Loss: 1.2477... Val Loss: 1.3543\n",
            "Epoch: 14/15... Step: 1900... Loss: 1.2239... Val Loss: 1.3491\n",
            "Epoch: 14/15... Step: 1910... Loss: 1.2191... Val Loss: 1.3461\n",
            "Epoch: 14/15... Step: 1920... Loss: 1.2196... Val Loss: 1.3489\n",
            "Epoch: 14/15... Step: 1930... Loss: 1.1890... Val Loss: 1.3448\n",
            "Epoch: 14/15... Step: 1940... Loss: 1.2439... Val Loss: 1.3440\n",
            "Epoch: 15/15... Step: 1950... Loss: 1.2139... Val Loss: 1.3468\n",
            "Epoch: 15/15... Step: 1960... Loss: 1.2177... Val Loss: 1.3465\n",
            "Epoch: 15/15... Step: 1970... Loss: 1.2062... Val Loss: 1.3425\n",
            "Epoch: 15/15... Step: 1980... Loss: 1.2036... Val Loss: 1.3497\n",
            "Epoch: 15/15... Step: 1990... Loss: 1.2035... Val Loss: 1.3470\n",
            "Epoch: 15/15... Step: 2000... Loss: 1.1906... Val Loss: 1.3414\n",
            "Epoch: 15/15... Step: 2010... Loss: 1.2112... Val Loss: 1.3402\n",
            "Epoch: 15/15... Step: 2020... Loss: 1.2242... Val Loss: 1.3450\n",
            "Epoch: 15/15... Step: 2030... Loss: 1.1934... Val Loss: 1.3433\n",
            "Epoch: 15/15... Step: 2040... Loss: 1.2101... Val Loss: 1.3418\n",
            "Epoch: 15/15... Step: 2050... Loss: 1.1923... Val Loss: 1.3410\n",
            "Epoch: 15/15... Step: 2060... Loss: 1.2063... Val Loss: 1.3439\n",
            "Epoch: 15/15... Step: 2070... Loss: 1.2140... Val Loss: 1.3398\n",
            "Epoch: 15/15... Step: 2080... Loss: 1.2073... Val Loss: 1.3387\n"
          ],
          "name": "stdout"
        }
      ]
    },
    {
      "cell_type": "markdown",
      "metadata": {
        "id": "3Ca6_F1cCRoi",
        "colab_type": "text"
      },
      "source": [
        "## Getting the best model\n",
        "\n",
        "To set your hyperparameters to get the best performance, you'll want to watch the training and validation losses. If your training loss is much lower than the validation loss, you're overfitting. Increase regularization (more dropout) or use a smaller network. If the training and validation losses are close, you're underfitting so you can increase the size of the network."
      ]
    },
    {
      "cell_type": "markdown",
      "metadata": {
        "id": "n0bL_TDDCRok",
        "colab_type": "text"
      },
      "source": [
        "## Hyperparameters\n",
        "\n",
        "Here are the hyperparameters for the network.\n",
        "\n",
        "In defining the model:\n",
        "* `n_hidden` - The number of units in the hidden layers.\n",
        "* `n_layers` - Number of hidden LSTM layers to use.\n",
        "\n",
        "We assume that dropout probability and learning rate will be kept at the default, in this example.\n",
        "\n",
        "And in training:\n",
        "* `batch_size` - Number of sequences running through the network in one pass.\n",
        "* `seq_length` - Number of characters in the sequence the network is trained on. Larger is better typically, the network will learn more long range dependencies. But it takes longer to train. 100 is typically a good number here.\n",
        "* `lr` - Learning rate for training\n",
        "\n",
        "Here's some good advice from Andrej Karpathy on training the network. I'm going to copy it in here for your benefit, but also link to [where it originally came from](https://github.com/karpathy/char-rnn#tips-and-tricks).\n",
        "\n",
        "> ## Tips and Tricks\n",
        "\n",
        ">### Monitoring Validation Loss vs. Training Loss\n",
        ">If you're somewhat new to Machine Learning or Neural Networks it can take a bit of expertise to get good models. The most important quantity to keep track of is the difference between your training loss (printed during training) and the validation loss (printed once in a while when the RNN is run on the validation data (by default every 1000 iterations)). In particular:\n",
        "\n",
        "> - If your training loss is much lower than validation loss then this means the network might be **overfitting**. Solutions to this are to decrease your network size, or to increase dropout. For example you could try dropout of 0.5 and so on.\n",
        "> - If your training/validation loss are about equal then your model is **underfitting**. Increase the size of your model (either number of layers or the raw number of neurons per layer)\n",
        "\n",
        "> ### Approximate number of parameters\n",
        "\n",
        "> The two most important parameters that control the model are `n_hidden` and `n_layers`. I would advise that you always use `n_layers` of either 2/3. The `n_hidden` can be adjusted based on how much data you have. The two important quantities to keep track of here are:\n",
        "\n",
        "> - The number of parameters in your model. This is printed when you start training.\n",
        "> - The size of your dataset. 1MB file is approximately 1 million characters.\n",
        "\n",
        ">These two should be about the same order of magnitude. It's a little tricky to tell. Here are some examples:\n",
        "\n",
        "> - I have a 100MB dataset and I'm using the default parameter settings (which currently print 150K parameters). My data size is significantly larger (100 mil >> 0.15 mil), so I expect to heavily underfit. I am thinking I can comfortably afford to make `n_hidden` larger.\n",
        "> - I have a 10MB dataset and running a 10 million parameter model. I'm slightly nervous and I'm carefully monitoring my validation loss. If it's larger than my training loss then I may want to try to increase dropout a bit and see if that helps the validation loss.\n",
        "\n",
        "> ### Best models strategy\n",
        "\n",
        ">The winning strategy to obtaining very good models (if you have the compute time) is to always err on making the network larger (as large as you're willing to wait for it to compute) and then try different dropout values (between 0,1). Whatever model has the best validation performance (the loss, written in the checkpoint filename, low is good) is the one you should use in the end.\n",
        "\n",
        ">It is very common in deep learning to run many different models with many different hyperparameter settings, and in the end take whatever checkpoint gave the best validation performance.\n",
        "\n",
        ">By the way, the size of your training and validation splits are also parameters. Make sure you have a decent amount of data in your validation set or otherwise the validation performance will be noisy and not very informative."
      ]
    },
    {
      "cell_type": "markdown",
      "metadata": {
        "id": "mQnfJfdsCRol",
        "colab_type": "text"
      },
      "source": [
        "## Checkpoint\n",
        "\n",
        "After training, we'll save the model so we can load it again later if we need too. Here I'm saving the parameters needed to create the same architecture, the hidden layer hyperparameters and the text characters."
      ]
    },
    {
      "cell_type": "code",
      "metadata": {
        "id": "wib1PnPbCRon",
        "colab_type": "code",
        "colab": {}
      },
      "source": [
        "# change the name, for saving multiple files\n",
        "model_name = 'rnn_x_epoch.net'\n",
        "\n",
        "checkpoint = {'n_hidden': net.n_hidden,\n",
        "              'n_layers': net.n_layers,\n",
        "              'state_dict': net.state_dict(),\n",
        "              'tokens': net.chars}\n",
        "\n",
        "with open(model_name, 'wb') as f:\n",
        "    torch.save(checkpoint, f)"
      ],
      "execution_count": 0,
      "outputs": []
    },
    {
      "cell_type": "markdown",
      "metadata": {
        "id": "6SnjINy4CRou",
        "colab_type": "text"
      },
      "source": [
        "---\n",
        "## Making Predictions\n",
        "\n",
        "Now that the model is trained, we'll want to sample from it and make predictions about next characters! To sample, we pass in a character and have the network predict the next character. Then we take that character, pass it back in, and get another predicted character. Just keep doing this and you'll generate a bunch of text!\n",
        "\n",
        "### A note on the `predict`  function\n",
        "\n",
        "The output of our RNN is from a fully-connected layer and it outputs a **distribution of next-character scores**.\n",
        "\n",
        "> To actually get the next character, we apply a softmax function, which gives us a *probability* distribution that we can then sample to predict the next character.\n",
        "\n",
        "### Top K sampling\n",
        "\n",
        "Our predictions come from a categorical probability distribution over all the possible characters. We can make the sample text and make it more reasonable to handle (with less variables) by only considering some $K$ most probable characters. This will prevent the network from giving us completely absurd characters while allowing it to introduce some noise and randomness into the sampled text. Read more about [topk, here](https://pytorch.org/docs/stable/torch.html#torch.topk).\n"
      ]
    },
    {
      "cell_type": "code",
      "metadata": {
        "id": "Mx14dM2-CRow",
        "colab_type": "code",
        "colab": {}
      },
      "source": [
        "def predict(net, char, h=None, top_k=None):\n",
        "        ''' Given a character, predict the next character.\n",
        "            Returns the predicted character and the hidden state.\n",
        "        '''\n",
        "        \n",
        "        # tensor inputs\n",
        "        x = np.array([[net.char2int[char]]])\n",
        "        x = one_hot_encode(x, len(net.chars))\n",
        "        inputs = torch.from_numpy(x)\n",
        "        \n",
        "        if(train_on_gpu):\n",
        "            inputs = inputs.cuda()\n",
        "        \n",
        "        # detach hidden state from history\n",
        "        h = tuple([each.data for each in h])\n",
        "        # get the output of the model\n",
        "        out, h = net(inputs, h)\n",
        "\n",
        "        # get the character probabilities\n",
        "        p = F.softmax(out, dim=1).data\n",
        "        if(train_on_gpu):\n",
        "            p = p.cpu() # move to cpu\n",
        "        \n",
        "        # get top characters\n",
        "        if top_k is None:\n",
        "            top_ch = np.arange(len(net.chars))\n",
        "        else:\n",
        "            p, top_ch = p.topk(top_k)\n",
        "            top_ch = top_ch.numpy().squeeze()\n",
        "        \n",
        "        # select the likely next character with some element of randomness\n",
        "        p = p.numpy().squeeze()\n",
        "        char = np.random.choice(top_ch, p=p/p.sum())\n",
        "        \n",
        "        # return the encoded value of the predicted char and the hidden state\n",
        "        return net.int2char[char], h"
      ],
      "execution_count": 0,
      "outputs": []
    },
    {
      "cell_type": "markdown",
      "metadata": {
        "id": "rjC5bg-oCRo1",
        "colab_type": "text"
      },
      "source": [
        "### Priming and generating text \n",
        "\n",
        "Typically you'll want to prime the network so you can build up a hidden state. Otherwise the network will start out generating characters at random. In general the first bunch of characters will be a little rough since it hasn't built up a long history of characters to predict from."
      ]
    },
    {
      "cell_type": "code",
      "metadata": {
        "id": "51W-87snCRo4",
        "colab_type": "code",
        "colab": {}
      },
      "source": [
        "def sample(net, size, prime='The', top_k=None):\n",
        "        \n",
        "    if(train_on_gpu):\n",
        "        net.cuda()\n",
        "    else:\n",
        "        net.cpu()\n",
        "    \n",
        "    net.eval() # eval mode\n",
        "    \n",
        "    # First off, run through the prime characters\n",
        "    chars = [ch for ch in prime]\n",
        "    h = net.init_hidden(1)\n",
        "    for ch in prime:\n",
        "        char, h = predict(net, ch, h, top_k=top_k)\n",
        "\n",
        "    chars.append(char)\n",
        "    \n",
        "    # Now pass in the previous character and get a new one\n",
        "    for ii in range(size):\n",
        "        char, h = predict(net, chars[-1], h, top_k=top_k)\n",
        "        chars.append(char)\n",
        "\n",
        "    return ''.join(chars)"
      ],
      "execution_count": 0,
      "outputs": []
    },
    {
      "cell_type": "code",
      "metadata": {
        "id": "SaDSdrsVCRo-",
        "colab_type": "code",
        "colab": {
          "base_uri": "https://localhost:8080/",
          "height": 402
        },
        "outputId": "cf75998f-4c3c-4fd1-c223-58cee593fecd"
      },
      "source": [
        "print(sample(net, 1000, prime='The', top_k=5))"
      ],
      "execution_count": 74,
      "outputs": [
        {
          "output_type": "stream",
          "text": [
            "Ther. As she weld be such\n",
            "a bale steps, with his whole hand, he could not such\n",
            "term of his horres.\n",
            "\n",
            "She dressed that it was sitting twat her eyes, wording her face, which saw the princess's first stume\n",
            "conversation as though seeks he was getting into the same terriciet ageny, and he was\n",
            "greated an arguments, and had so mugn\n",
            "to the lands,\n",
            "the minuter of his heaved, and that he had seen him, betwered making a propry to his feeling of the steps with\n",
            "her expectation, and the children when the subject should not take at once.\n",
            "\n",
            "Alexey Alexandrovitch had gone of his hand with their story of the\n",
            "race than\n",
            "a significance of her sole of the muddencos who had to see another of the\n",
            "ploughs over the steps, and toward the carrows and the sick man were as he shook and seeing one of them\n",
            "as he stood at the mother, taking her\n",
            "humor, he happiness of\n",
            "his\n",
            "heart had been already disportant of the stort of his freed of the same, and his eyes shell her heart.\n",
            "\n",
            "And having been power to how, and she had already di\n"
          ],
          "name": "stdout"
        }
      ]
    },
    {
      "cell_type": "markdown",
      "metadata": {
        "id": "GvWAvw-hCRpB",
        "colab_type": "text"
      },
      "source": [
        "## Loading a checkpoint"
      ]
    },
    {
      "cell_type": "code",
      "metadata": {
        "id": "leVUox5eCRpE",
        "colab_type": "code",
        "colab": {
          "base_uri": "https://localhost:8080/",
          "height": 34
        },
        "outputId": "8260913a-301a-43a1-d902-31c3a2ebc0fa"
      },
      "source": [
        "# Here we have loaded in a model that trained over 20 epochs `rnn_20_epoch.net`\n",
        "with open('rnn_x_epoch.net', 'rb') as f:\n",
        "    checkpoint = torch.load(f)\n",
        "    \n",
        "loaded = CharRNN(checkpoint['tokens'], n_hidden=checkpoint['n_hidden'], n_layers=checkpoint['n_layers'])\n",
        "loaded.load_state_dict(checkpoint['state_dict'])"
      ],
      "execution_count": 75,
      "outputs": [
        {
          "output_type": "execute_result",
          "data": {
            "text/plain": [
              "<All keys matched successfully>"
            ]
          },
          "metadata": {
            "tags": []
          },
          "execution_count": 75
        }
      ]
    },
    {
      "cell_type": "code",
      "metadata": {
        "id": "0aneltFoCRpU",
        "colab_type": "code",
        "colab": {
          "base_uri": "https://localhost:8080/",
          "height": 888
        },
        "outputId": "73a6d9f3-5627-4b33-b456-d2b0c01e7fd7"
      },
      "source": [
        "# Sample using a loaded model\n",
        "print(sample(loaded, 2000, top_k=5, prime=\"And Levin said\"))"
      ],
      "execution_count": 76,
      "outputs": [
        {
          "output_type": "stream",
          "text": [
            "And Levin said, and with successful sight of some horse.\n",
            "\n",
            "The capporate had never said a long--were several time and an upon to the steps of his words with the step,\n",
            "who had been\n",
            "done.\n",
            "\n",
            "\"Why should be them as I see as you say, and it's\n",
            "not as you say another\n",
            "man what is they're anyoch must lessen, and I do.\"\n",
            "\n",
            "\"Yes, there's sore your friends.\"\n",
            "\n",
            "She was nothing to see the country.\n",
            "\n",
            "The profframing of their heads are severely disagreeable with him, and so himself to stroke a great, heart him of a little\n",
            "good better, and saying against him, to\n",
            "speak to\n",
            "himself,\n",
            "and\n",
            "was stairing his freedom, and\n",
            "the mother of his strings, and at all soon as\n",
            "it. He he was anything that it was the findent his\n",
            "fact that she could not see him with waiting for\n",
            "all the same\n",
            "the fears.\n",
            "\n",
            "\"Well, then, I'm a very son, and that, you see you,\" said Shtaching Levin, and to study. She was subtry instead of\n",
            "this step, and the passes, at the carrying her head of the races, had already.\n",
            "\n",
            "\"I have told you me to said,\" said Vronsky addressed the churches such a sick man, and talking and humiliating, when it was noticing that they had not\n",
            "the last tears of the reprief in the most\n",
            "compassion in\n",
            "his\n",
            "forest. But then the\n",
            "child was not a letter which the peasant's face of straight of\n",
            "herself, was improper\n",
            "freedily of their mind that he\n",
            "had to go, husing\n",
            "her shreeked in the most of\n",
            "presence, the sendaily of the prayer of all horrow, was something by the\n",
            "rapliger state of higher supports of a book of these\n",
            "children at the summer words and shooting\n",
            "away to his father's father--\"that are the peasants, I can't be something to\n",
            "take any people and a minute face and despise it, and impressed him. And I'm not going to the stepp. There was, then\n",
            "he's a low than\n",
            "I have. I am so\n",
            "little feeling of home. I see that you say if you do all one more fash or nothing. If it was a man who do your husband have been such a long stup in these churce, but the servants are about it one may.\"\n",
            "\n",
            "\"What won't say,\" said Anna's continualte, a feeling for wh\n"
          ],
          "name": "stdout"
        }
      ]
    },
    {
      "cell_type": "code",
      "metadata": {
        "id": "n2e1lXX0CRpZ",
        "colab_type": "code",
        "colab": {}
      },
      "source": [
        ""
      ],
      "execution_count": 0,
      "outputs": []
    }
  ]
}